{
 "cells": [
  {
   "cell_type": "markdown",
   "metadata": {},
   "source": [
    "#### The need for Optimization\n",
    "- Predictions with multiple points\n",
    "- Error evaluation - From the basic-line example \n",
    "- The input is array[2,3] expected generate output as 13\n",
    "- however, this didn't change because, it generated 9\n",
    "- the true value is 13 and output is 9 (13 - 9) will be 4 (the loss)\n",
    "- so changing the hidden layer at this point to some other values will result in expect values of 13"
   ]
  },
  {
   "cell_type": "markdown",
   "metadata": {},
   "source": [
    "#### Predictions with multiple points\n",
    "- Making accurate predictions gets harder with more points\n",
    "- At any set of weights, there are many values of the error\n",
    "\n",
    "#### Loss Function\n",
    "- Aggregates error in predictions from many data points into single number\n",
    "- Measure for model predictive performance\n",
    "\n",
    "#### Line in Regression (Linear)\n",
    "- RMSE, The root means square error is 1/2(expected - output)^2 \n",
    "- Lower the loss function, the better the model is.\n",
    "- Goal : Find the weights that give the lowest value for the loss function.\n",
    "\n",
    "#### Gradient Descent (An Alogarithm for check the loss)\n",
    "- Start at the random point\n",
    "- Until you are somewhere felt:\n",
    "    - find the slope\n",
    "    - Take the step downhill\n",
    "- "
   ]
  },
  {
   "cell_type": "markdown",
   "metadata": {},
   "source": [
    "Coding how weight changes affect accuracy\n",
    "Now you'll get to change weights in a real network and see how they affect model accuracy!\n",
    "\n",
    "Have a look at the following neural network: Ch2Ex4\n",
    "\n",
    "Its weights have been pre-loaded as weights_0. Your task in this exercise is to update a single weight in weights_0 to create weights_1, which gives a perfect prediction (in which the predicted value is equal to target_actual: 3).\n",
    "\n",
    "Use a pen and paper if necessary to experiment with different combinations. You'll use the predict_with_network() function, which takes an array of data as the first argument, and weights as the second argument."
   ]
  },
  {
   "cell_type": "code",
   "execution_count": 30,
   "metadata": {},
   "outputs": [
    {
     "name": "stdout",
     "output_type": "stream",
     "text": [
      "6\n",
      "0\n"
     ]
    }
   ],
   "source": [
    "import numpy as np\n",
    "\n",
    "# The data point you will make a prediction for\n",
    "input_data = np.array([0, 3])\n",
    "\n",
    "# Sample weights\n",
    "weights_0 = {'node_0': [2, 1],\n",
    "             'node_1': [1, 2],\n",
    "             'output': [1, 1]\n",
    "            }\n",
    "\n",
    "# The actual target value, used to calculate the error\n",
    "target_actual = 3\n",
    "\n",
    "# Define RELU\n",
    "\n",
    "def relu(input):\n",
    "    '''Define your relu activation function here'''\n",
    "    # Calculate the value for the output of the relu function: output\n",
    "    output = max(0, input)\n",
    "    \n",
    "    # Return the value just calculated\n",
    "    return(output)\n",
    "\n",
    "# Define predict with Network\n",
    "def predict_with_network(input_data_row, weights):\n",
    "\n",
    "    # Calculate node 0 value\n",
    "    node_0_input = (input_data_row * weights['node_0']).sum()\n",
    "    node_0_output = relu(node_0_input)\n",
    "\n",
    "    # Calculate node 1 value\n",
    "    node_1_input = (input_data_row * weights['node_1']).sum()\n",
    "    node_1_output = relu(node_1_input)\n",
    "\n",
    "    # Put node values into array: hidden_layer_outputs\n",
    "    hidden_layer_outputs = np.array([node_0_output, node_1_output])\n",
    "    \n",
    "    # Calculate model output\n",
    "    input_to_final_layer = (hidden_layer_outputs * weights['output']).sum()\n",
    "    model_output = relu(input_to_final_layer)\n",
    "    \n",
    "    # Return model output\n",
    "    return(model_output)\n",
    "\n",
    "# Make prediction using original weights\n",
    "model_output_0 = predict_with_network(input_data, weights_0)\n",
    "\n",
    "# Calculate error: error_0\n",
    "error_0 = model_output_0 - target_actual\n",
    "\n",
    "# Create weights that cause the network to make perfect prediction (3): weights_1\n",
    "weights_1 = {'node_0': [2, 1],\n",
    "             'node_1': [1, 2],\n",
    "             'output': [-1, 1]\n",
    "            }\n",
    "\n",
    "# Make prediction using new weights: model_output_1\n",
    "model_output_1 = predict_with_network(input_data, weights_1)\n",
    "\n",
    "# Calculate error: error_1\n",
    "error_1 =  model_output_1 - target_actual\n",
    "\n",
    "# Print error_0 and error_1\n",
    "print(error_0)\n",
    "print(error_1)\n"
   ]
  },
  {
   "cell_type": "markdown",
   "metadata": {},
   "source": [
    "#### Scaling up to multiple data points\n",
    "You've seen how different weights will have different accuracies on a single prediction. But usually, you'll want to measure model accuracy on many points. You'll now write code to compare model accuracies for two different sets of weights, which have been stored as weights_0 and weights_1.\n",
    "\n",
    "input_data is a list of arrays. Each item in that list contains the data to make a single prediction. target_actuals is a list of numbers. Each item in that list is the actual value we are trying to predict.\n",
    "\n",
    "In this exercise, you'll use the mean_squared_error() function from sklearn.metrics. It takes the true values and the predicted values as arguments.\n",
    "\n",
    "You'll also use the preloaded predict_with_network() function, which takes an array of data as the first argument, and weights as the second argument."
   ]
  },
  {
   "cell_type": "code",
   "execution_count": 34,
   "metadata": {},
   "outputs": [
    {
     "name": "stdout",
     "output_type": "stream",
     "text": [
      "Mean squared error with weights_0: 37.500000\n",
      "Mean squared error with weights_1: 20.500000\n"
     ]
    }
   ],
   "source": [
    "from sklearn.metrics import mean_squared_error\n",
    "\n",
    "input_data = [np.array([0, 3]), np.array([1, 2]), np.array([-1, -2]), np.array([4, 0])]\n",
    "\n",
    "target_actuals = [1, 3, 5, 7]\n",
    "\n",
    "# Create model_output_0 \n",
    "model_output_0 = []\n",
    "# Create model_output_1\n",
    "model_output_1 = []\n",
    "\n",
    "\n",
    "# Loop over input_data\n",
    "for row in input_data:\n",
    "    # Append prediction to model_output_0\n",
    "    model_output_0.append(predict_with_network(row, weights_0))\n",
    "    \n",
    "    # Append prediction to model_output_1\n",
    "    model_output_1.append(predict_with_network(row, weights_1))\n",
    "\n",
    "# Calculate the mean squared error for model_output_0: mse_0\n",
    "mse_0 = mean_squared_error(target_actuals, model_output_0)\n",
    "\n",
    "# Calculate the mean squared error for model_output_1: mse_1\n",
    "mse_1 = mean_squared_error(target_actuals, model_output_1)\n",
    "\n",
    "# Print mse_0 and mse_1\n",
    "print(\"Mean squared error with weights_0: %f\" %mse_0)\n",
    "print(\"Mean squared error with weights_1: %f\" %mse_1)"
   ]
  },
  {
   "cell_type": "markdown",
   "metadata": {},
   "source": [
    "#### Gradient Descent\n",
    "- in the slope of the curve, the tangent keeps varying until you reach the values of true\n",
    "- once you see the slope is positive, you further next the negatives you stop\n",
    "#### if the slope is positive\n",
    "- Going opposite the slope means moves to lower numbers\n",
    "- Subtract the slope from the current value, \n",
    "- Too big, a step might lead us astray\n",
    "#### Solution : \n",
    "- multiply the slope by a smaller number, called the learning rate, and we change the weight by the product of that multiplication.\n",
    "- Update each weight by subracting learning rate * slope\n",
    "\n",
    "##### To calculate the slope of the weigth:\n",
    "- Slope of the loss function w.r.t value at the node we feed into.\n",
    "- The value of the node that feeds into our weight\n",
    "- Slope of the activation function w.r.t value we feed into\n",
    "- Slope of the mean-squared loss function w.r.t prediction: \n",
    "    - 2 * (Predicted value - Actual value) = 2 * ERROR\n",
    "    - From the example, 3--2--6 => Target value is 10\n",
    "    - 6 - 10 = -4 (that is error)\n",
    "- The value of the node that feeds into our weight\n",
    "   is -3\n",
    "- So The slope of mean-squared loss function = 2 * -4 * 3 = -24\n",
    "- if the learning rate is 0.01, the new rate would be 2 - 0.02(-24) = 2.4\n",
    "- by repeating the above, process we get the better predicitivity\n",
    "##### Network with two inputs affecting prediction\n",
    "    - 3--1---(o/p)\n",
    "    - 4--2---(o/p)\n",
    "    "
   ]
  },
  {
   "cell_type": "code",
   "execution_count": 61,
   "metadata": {},
   "outputs": [
    {
     "name": "stdout",
     "output_type": "stream",
     "text": [
      "-5\n"
     ]
    },
    {
     "data": {
      "text/plain": [
       "array([-30, -40])"
      ]
     },
     "metadata": {},
     "output_type": "display_data"
    },
    {
     "name": "stdout",
     "output_type": "stream",
     "text": [
      "-7.5\n"
     ]
    }
   ],
   "source": [
    "# Code that calculates the slopes and updates the weight\n",
    "import numpy as np\n",
    "\n",
    "# weights\n",
    "weights = np.array([1,2])\n",
    "\n",
    "# input_data\n",
    "input_data = np.array([3,4])\n",
    "\n",
    "# target\n",
    "target = 6\n",
    "\n",
    "# learning Rate\n",
    "learning_rate = 0.01\n",
    "\n",
    "# predictions\n",
    "preds = (weights * input_data).sum()\n",
    "\n",
    "# error = preds-weights\n",
    "error = target - preds\n",
    "\n",
    "print(error)\n",
    "\n",
    "# slope calculation\n",
    "gradient = 2 * input_data * error\n",
    "\n",
    "# gradient\n",
    "display(gradient)\n",
    "\n",
    "# Weights updates \n",
    "weights_updated = weights - (learning_rate * gradient)\n",
    "\n",
    "# predicted_updated\n",
    "preds_updated = (weights_updated * input_data).sum()\n",
    "\n",
    "# error_updated\n",
    "error_updated = target - preds_updated\n",
    "\n",
    "print(error_updated)\n"
   ]
  },
  {
   "cell_type": "markdown",
   "metadata": {},
   "source": [
    "Calculating slopes\n",
    "You're now going to practice calculating slopes. When plotting the mean-squared error loss function against predictions, the slope is 2 * x * (y-xb), or 2 * input_data * error. Note that x and b may have multiple numbers (x is a vector for each data point, and b is a vector). In this case, the output will also be a vector, which is exactly what you want.\n",
    "\n",
    "You're ready to write the code to calculate this slope while using a single data point. You'll use pre-defined weights called weights as well as data for a single point called input_data. The actual value of the target you want to predict is stored in target"
   ]
  },
  {
   "cell_type": "code",
   "execution_count": 56,
   "metadata": {},
   "outputs": [
    {
     "name": "stdout",
     "output_type": "stream",
     "text": [
      "[2 4 6]\n"
     ]
    }
   ],
   "source": [
    "#input\n",
    "input_data = np.array([1,2,3])\n",
    "\n",
    "# weights\n",
    "weights = np.array([0,2,1])\n",
    "\n",
    "# Calculate the predictions: preds\n",
    "preds = (weights * input_data).sum()\n",
    "\n",
    "# Calculate the error: error\n",
    "error = target - preds\n",
    "\n",
    "# Calculate the slope: slope\n",
    "slope = 2 * input_data * error\n",
    "\n",
    "# Print the slope\n",
    "print(slope)\n"
   ]
  },
  {
   "cell_type": "markdown",
   "metadata": {},
   "source": [
    "Improving model weights\n",
    "Hurray! You've just calculated the slopes you need. Now it's time to use those slopes to improve your model. If you add the slopes to your weights, you will move in the right direction. However, it's possible to move too far in that direction. So you will want to take a small step in that direction first, using a lower learning rate, and verify that the model is improving.\n",
    "\n",
    "The weights have been pre-loaded as weights, the actual value of the target as target, and the input data as input_data. The predictions from the initial weights are stored as preds."
   ]
  },
  {
   "cell_type": "code",
   "execution_count": 62,
   "metadata": {},
   "outputs": [
    {
     "name": "stdout",
     "output_type": "stream",
     "text": [
      "5\n",
      "2.5\n"
     ]
    }
   ],
   "source": [
    "# Set the learning rate: learning_rate\n",
    "learning_rate = 0.01\n",
    "\n",
    "# Calculate the predictions: preds\n",
    "preds = (weights * input_data).sum()\n",
    "\n",
    "# Calculate the error: error\n",
    "error = preds - target\n",
    "\n",
    "# Calculate the slope: slope\n",
    "slope = 2 * input_data * error\n",
    "\n",
    "# Update the weights: weights_updated\n",
    "weights_updated = weights - learning_rate * slope\n",
    "\n",
    "# Get updated predictions: preds_updated\n",
    "preds_updated = (weights_updated * input_data).sum()\n",
    "\n",
    "# Calculate updated error: error_updated\n",
    "error_updated = preds_updated - target\n",
    "\n",
    "# Print the original error\n",
    "print(error)\n",
    "\n",
    "# Print the updated error\n",
    "print(error_updated)\n"
   ]
  },
  {
   "cell_type": "markdown",
   "metadata": {},
   "source": [
    "Making multiple updates to weights\n",
    "You're now going to make multiple updates so you can dramatically improve your model weights, and see how the predictions improve with each update.\n",
    "\n",
    "To keep your code clean, there is a pre-loaded get_slope() function that takes input_data, target, and weights as arguments. There is also a get_mse() function that takes the same arguments. The input_data, target, and weights have been pre-loaded.\n",
    "\n",
    "This network does not have any hidden layers, and it goes directly from the input (with 3 nodes) to an output node. Note that weights is a single array.\n",
    "\n",
    "We have also pre-loaded matplotlib.pyplot, and the error history will be plotted after you have done your gradient descent steps."
   ]
  },
  {
   "cell_type": "code",
   "execution_count": 48,
   "metadata": {},
   "outputs": [],
   "source": [
    "n_updates = 20\n",
    "mse_hist = []\n",
    "\n",
    "# Iterate over the number of updates\n",
    "for i in range(n_updates):\n",
    "    # Calculate the slope: slope\n",
    "    slope = get_slope(input_data, target, weights)\n",
    "    \n",
    "    # Update the weights: weights\n",
    "    weights = weights - 0.01 * slope\n",
    "    \n",
    "    # Calculate mse with new weights: mse\n",
    "    mse = get_mse(input_data, target, weights)\n",
    "    \n",
    "    # Append the mse to mse_hist\n",
    "    mse_hist.append(mse)\n",
    "\n",
    "# Plot the mse history\n",
    "plt.plot(mse_hist)\n",
    "plt.xlabel('Iterations')\n",
    "plt.ylabel('Mean Squared Error')\n",
    "plt.show()"
   ]
  },
  {
   "cell_type": "markdown",
   "metadata": {},
   "source": [
    "#### Backward Propagation\n",
    "- Backward Propagation is used calculate the slopes we need using backward propagation.\n",
    "- Just as forward propagation sends input data through the hidden layers and into the output layer.\n",
    "- Back propagation is tricky\n",
    "\n",
    "#### How it works? \n",
    "- Allows gradient descent to update all weights in neural network (by getting gradients for all weights)\n",
    "- Comes from chain rule of calculus\n",
    "- Important to understand the process, but you will generally use a library that implement this\n",
    "\n",
    "#### BackPropagation Process:\n",
    "- Try to estimate the slope of the loss function, w.r.t each weight\n",
    "- Do Forward propagation to calculate predictions and errors\n",
    "- GO back one layer at a time\n",
    "- Gradients for weight of the product \n",
    "    1. Node Value Feeding into that weight\n",
    "    2. Slope of loss function w.r.t node if feeds into\n",
    "    3. Slope of activation function at the node if feeds into\n",
    "- From the ReLU perspective, the slope is 0 if the input into the node is negative.\n",
    "- If the input is positive, the output is same as input\n",
    "\n",
    "#### Backward Propagation\n",
    "- Need to also keep track of the slopes of the loss function w.r.t node values.\n",
    "- Slope of node values are the sum of the slopes for all weights that come out of them.\n"
   ]
  },
  {
   "cell_type": "markdown",
   "metadata": {},
   "source": [
    "#### Calculating slopes associated with any weight\n",
    "- Gradients of the weight is product of:\n",
    "    1. Node value feeding into that weight\n",
    "    2. Slope of the activation function for the node being fed into\n",
    "    3. Slope of the loss function w.r.t output node\n",
    "\n",
    "#### Backward Propagation Recap\n",
    "- Start at some random set of weights\n",
    "- Use forward propagation to make a prediction.\n",
    "- Use backward propagation to calculate the slope of the loss function w.r.t each weight\n",
    "- Multiply the slope by the learning rate, and subtract from the current weights\n",
    "\n",
    "#### Stochastic gradient descent\n",
    "- It is common to calculate slopes on only a subset of the data('batch')\n",
    "- Use a different batch of data to calculate the next update\n",
    "- Start over from the beginning once all the data is used\n",
    "- Each time through the training data is called a **\"epoch\"**\n",
    "- When the slopes are calculated on one batch at a time : **\"stochastic gradient descent\"**\n"
   ]
  },
  {
   "cell_type": "markdown",
   "metadata": {},
   "source": []
  },
  {
   "cell_type": "code",
   "execution_count": null,
   "metadata": {},
   "outputs": [],
   "source": []
  }
 ],
 "metadata": {
  "kernelspec": {
   "display_name": "Python 3",
   "language": "python",
   "name": "python3"
  },
  "language_info": {
   "codemirror_mode": {
    "name": "ipython",
    "version": 3
   },
   "file_extension": ".py",
   "mimetype": "text/x-python",
   "name": "python",
   "nbconvert_exporter": "python",
   "pygments_lexer": "ipython3",
   "version": "3.7.1"
  }
 },
 "nbformat": 4,
 "nbformat_minor": 2
}
